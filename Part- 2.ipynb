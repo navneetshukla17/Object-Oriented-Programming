{
 "cells": [
  {
   "cell_type": "markdown",
   "id": "67ebdf17",
   "metadata": {},
   "source": [
    "### # Rereacting ATM class with some modifications"
   ]
  },
  {
   "cell_type": "code",
   "execution_count": 1,
   "id": "06d82c1d",
   "metadata": {},
   "outputs": [],
   "source": [
    "import getpass as gt\n",
    "\n",
    "class Atm:\n",
    "    '''\n",
    "    A simple atm class\n",
    "    '''\n",
    "    pin = None # instance variable\n",
    "    balance = 0 # instance variable\n",
    "    counter = 1001 # class variable\n",
    "    acc_no = None # instance varibale\n",
    "    \n",
    "    def __init__(self):\n",
    "        '''\n",
    "        Class initializer:\n",
    "        This method will triger automaticaly on the time of object creation\n",
    "        '''\n",
    "        print('Welcome to swiz bank of jogeshwari')\n",
    "    \n",
    "    def activateCard(self):\n",
    "        '''\n",
    "        This method activates user account\n",
    "        Input: 4 digit PIN\n",
    "        Output: creates user account\n",
    "        Created by: Tushar\n",
    "        Last edited: 18-April-2024\n",
    "        '''\n",
    "        self.pin = gt.getpass('Create 4 digit PIN: ')\n",
    "        self.acc_no = Atm.counter\n",
    "        Atm.counter += 1\n",
    "        print(f'PIN created successfully & your account number is: {self.acc_no}')\n",
    "    \n",
    "    def deposite(self):\n",
    "        '''\n",
    "        This method deposite money to the user account\n",
    "        Input: 4 digit PIN\n",
    "        Output: deposites user money\n",
    "        Created by: Tushar\n",
    "        Last edited: 18-April-2024\n",
    "        '''\n",
    "        temp = gt.getpass('Enter your 4 digit PIN: ')\n",
    "        if temp == self.pin:\n",
    "            amount = int(input('Enter the amount you wish to deposite: '))\n",
    "            self.balance = self.balance + amount\n",
    "            print(f'Amount: ${amount} deposite successfully !')\n",
    "        else:\n",
    "            print('Incorrect PIN !')\n",
    "    \n",
    "    def checkBalance(self):\n",
    "        '''\n",
    "        This method let users check their account balance\n",
    "        Input: 4 digit PIN\n",
    "        Output: displays account balance\n",
    "        Created by: Tushar\n",
    "        Last edited: 18-April-2024\n",
    "        '''\n",
    "        temp = gt.getpass('Enter your 4 digit PIN: ')\n",
    "        if temp == self.pin:\n",
    "            print(f'Your current account balance is: {self.balance}')\n",
    "        else:\n",
    "            print('Incorrect PIN !')\n",
    "    \n",
    "    def withDraw(self):\n",
    "        '''\n",
    "        This method let the users withdraw money from their available balance\n",
    "        Input: 4 digit PIN\n",
    "        Output: deduct money from users available account balance\n",
    "        Created by: Tushar\n",
    "        Last edited: 18-April-2024\n",
    "        '''\n",
    "        temp = gt.getpass('Enter your 4 digit PIN: ')\n",
    "        if temp == self.pin:\n",
    "            amount = int(input('Enter the amount you wish to withdraw: '))\n",
    "            if amount < self.balance:\n",
    "                self.balance = self.balance - amount\n",
    "                print(f'Amount: ${amount} withdrawn successfully !')\n",
    "            else:\n",
    "                print('Insufficient account balance !')\n",
    "        else:\n",
    "            print('Incorrect PIN !')"
   ]
  },
  {
   "cell_type": "markdown",
   "id": "9b6abb01",
   "metadata": {},
   "source": [
    "### #Encapsulation:\n",
    "- When you want to limit the use of your class data, we create getter and setter method for every required function is called as 'Encapsulation'."
   ]
  },
  {
   "cell_type": "markdown",
   "id": "dea9952d",
   "metadata": {},
   "source": [
    "###  # Using encapsulation to limit the control of data(acc_no), by using getmter & setter methods"
   ]
  },
  {
   "cell_type": "code",
   "execution_count": 1,
   "id": "0fd989e7",
   "metadata": {},
   "outputs": [],
   "source": [
    "class ATM:\n",
    "    '''\n",
    "    A simple ATM class.\n",
    "    '''\n",
    "    pin = None\n",
    "    balance = 0\n",
    "    counter = 1001\n",
    "    acc_no = None\n",
    "    \n",
    "    def __init__(self):\n",
    "        '''\n",
    "        class initializer.\n",
    "        '''\n",
    "        print('Welcome to Shukla Co.op bank')\n",
    "        self.pin = input('Please Create 4 digit PIN: ')\n",
    "        self.acc_no = ATM.counter\n",
    "        ATM.counter += 1\n",
    "        print(f'Congratulations PIN created successfully & your account number is: {self.acc_no}')\n",
    "    \n",
    "    def get_acc_no(self):\n",
    "        '''\n",
    "        getter method for data(acc_no)\n",
    "        '''\n",
    "        print(f'Your account number is: {self.acc_no}')\n",
    "    \n",
    "    def set_acc_no(self, value):\n",
    "        '''\n",
    "        setter method for data(acc_no)\n",
    "        '''\n",
    "        if type(value) == int:\n",
    "            self.acc_no = value\n",
    "        else:\n",
    "            print('Value cannot be String !')\n",
    "    \n",
    "    def deposite(self):\n",
    "        '''\n",
    "        This method deposite money to the user account\n",
    "        Input: 4 digit PIN\n",
    "        Output: deposites user money\n",
    "        Created by: Tushar\n",
    "        Last edited: 18-April-2024\n",
    "        '''    \n",
    "        temp = gt.getpass('Enter your 4 digit PIN: ')\n",
    "        if temp == self.pin:\n",
    "            amount = int(input('Enter the amount you wish to deposite: '))\n",
    "            self.balance = self.balance + amount\n",
    "            print(f'Amount: ${amount} deposite successfully !')\n",
    "        else:\n",
    "            print('Incorrect PIN !')\n",
    "    \n",
    "    def checkBalance(self):\n",
    "        '''\n",
    "        This method let users check their account balance\n",
    "        Input: 4 digit PIN\n",
    "        Output: displays account balance\n",
    "        Created by: Tushar\n",
    "        Last edited: 18-April-2024\n",
    "        '''    \n",
    "        temp = gt.getpass('Enter your 4 digit PIN: ')\n",
    "        if temp == self.pin:\n",
    "            print(f'Your current account balance is: {self.balance}')\n",
    "        else:\n",
    "            print('Incorrect PIN !')\n",
    "    \n",
    "    def withDraw(self):\n",
    "        '''\n",
    "        This method let the users withdraw money from their available balance\n",
    "        Input: 4 digit PIN\n",
    "        Output: deduct money from users available account balance\n",
    "        Created by: Tushar\n",
    "        Last edited: 18-April-2024\n",
    "        '''    \n",
    "        temp = gt.getpass('Enter your 4 digit PIN: ')\n",
    "        if temp == self.pin:\n",
    "            amount = int(input('Enter the amount you wish to withdraw: '))\n",
    "            if amount < self.balance:\n",
    "                self.balance = self.balance - amount\n",
    "                print(f'Amount: ${amount} withdrawn successfully !')\n",
    "            else:\n",
    "                print('Insufficient account balance !')\n",
    "        else:\n",
    "            print('Incorrect PIN !')"
   ]
  },
  {
   "cell_type": "code",
   "execution_count": 3,
   "id": "0dc6b02d",
   "metadata": {},
   "outputs": [
    {
     "name": "stdout",
     "output_type": "stream",
     "text": [
      "Welcome to Shukla Co.op bank\n",
      "Please Create 4 digit PIN: 1111\n",
      "Congratulations PIN created successfully & your account number is: 1001\n"
     ]
    }
   ],
   "source": [
    "bob = ATM()"
   ]
  },
  {
   "cell_type": "code",
   "execution_count": 4,
   "id": "047aca2a",
   "metadata": {},
   "outputs": [
    {
     "name": "stdout",
     "output_type": "stream",
     "text": [
      "Your account number is: 1001\n"
     ]
    }
   ],
   "source": [
    "bob.get_acc_no()"
   ]
  },
  {
   "cell_type": "code",
   "execution_count": 5,
   "id": "3dc6cf92",
   "metadata": {},
   "outputs": [],
   "source": [
    "bob.set_acc_no(4002)"
   ]
  },
  {
   "cell_type": "markdown",
   "id": "1242852a",
   "metadata": {},
   "source": [
    "### #Abstraction:\n",
    "- When you hide class data from public it called as 'Abstraction', But in python there is nothing truely hidden 'Because Python is for Adults : )'"
   ]
  },
  {
   "cell_type": "markdown",
   "id": "e4a3d46b",
   "metadata": {},
   "source": [
    "### #Using Abstraction to hide class data from unwanted users: use _ (underscore) to apply abstraction"
   ]
  },
  {
   "cell_type": "code",
   "execution_count": 6,
   "id": "71f60237",
   "metadata": {},
   "outputs": [],
   "source": [
    "class Sbiatm:\n",
    "    '''\n",
    "    An class for SBI atm's\n",
    "    '''\n",
    "    pin = None # instance variable\n",
    "    balance = 0 # instance variable\n",
    "    counter = 50 # class variable\n",
    "    _acc_no = None # this instance variable is hidden from public.\n",
    "    \n",
    "    def __init__(self):\n",
    "        # class initializer\n",
    "        # hide acc_no using 'Abstraction'\n",
    "        print('Welcome to State Bank Of India')\n",
    "        self.pin = input('Create 4 digit PIN: ')\n",
    "        self._acc_no = Sbiatm.counter\n",
    "        Sbiatm.counter += 1\n",
    "        print(f'PIN created successfully ! & your account number is: {self._acc_no}')\n",
    "    \n",
    "    def get_acc_no(self):\n",
    "        print(f'Your account number is: {self._acc_no}')\n",
    "    \n",
    "    def set_acc_no(self, value):\n",
    "        if type(value) == int:\n",
    "            self._acc_no = value\n",
    "        else:\n",
    "            print('Account number cannot be string !')"
   ]
  },
  {
   "cell_type": "code",
   "execution_count": 7,
   "id": "c2cb5cea",
   "metadata": {},
   "outputs": [
    {
     "name": "stdout",
     "output_type": "stream",
     "text": [
      "Welcome to State Bank Of India\n",
      "Create 4 digit PIN: 2222\n",
      "PIN created successfully ! & your account number is: 50\n"
     ]
    }
   ],
   "source": [
    "sanju = Sbiatm()"
   ]
  },
  {
   "cell_type": "code",
   "execution_count": 8,
   "id": "151bc409",
   "metadata": {},
   "outputs": [
    {
     "name": "stdout",
     "output_type": "stream",
     "text": [
      "Welcome to State Bank Of India\n",
      "Create 4 digit PIN: 1111\n",
      "PIN created successfully ! & your account number is: 51\n"
     ]
    }
   ],
   "source": [
    "manju = Sbiatm()"
   ]
  },
  {
   "cell_type": "code",
   "execution_count": 9,
   "id": "6a2c19e3",
   "metadata": {},
   "outputs": [
    {
     "name": "stdout",
     "output_type": "stream",
     "text": [
      "Your account number is: 50\n"
     ]
    }
   ],
   "source": [
    "sanju.get_acc_no()"
   ]
  },
  {
   "cell_type": "code",
   "execution_count": 10,
   "id": "4241273c",
   "metadata": {},
   "outputs": [
    {
     "name": "stdout",
     "output_type": "stream",
     "text": [
      "Your account number is: 51\n"
     ]
    }
   ],
   "source": [
    "manju.get_acc_no()"
   ]
  },
  {
   "cell_type": "markdown",
   "id": "ebd53a88",
   "metadata": {},
   "source": [
    "### #Inheritence\n",
    "- When you write code once and use it multiple times refering to it whenever need is called 'Inheritence', It uses FAMILY TREE hierarchy (parent class, child class, grand child class, etc...) "
   ]
  },
  {
   "cell_type": "markdown",
   "id": "1468b9e3",
   "metadata": {},
   "source": [
    "### #Code example of 'Inheritence in OOP'"
   ]
  },
  {
   "cell_type": "code",
   "execution_count": 11,
   "id": "d98156c3",
   "metadata": {},
   "outputs": [],
   "source": [
    "# This example is not using 'Inheritance'\n",
    "class Tappu_k_papa: # parent class\n",
    "    net_worth = 10000000\n",
    "    swag = 'Audi R8'\n",
    "    \n",
    "    def tappu_k_papa_ka_enjoy(self):\n",
    "        print(f'I ride my {self.swag}, vroom vroom...')\n",
    "        \n",
    "class Tappu: # child class\n",
    "    pocket_money = 50\n",
    "    toy = 'Khattara cycle'\n",
    "    \n",
    "    def tappu_ka_enjoy(self):\n",
    "        print(f'I love my {self.toy}, khatar khatar...')    "
   ]
  },
  {
   "cell_type": "code",
   "execution_count": 12,
   "id": "367ba038",
   "metadata": {},
   "outputs": [
    {
     "name": "stdout",
     "output_type": "stream",
     "text": [
      "I ride my Audi R8, vroom vroom...\n"
     ]
    }
   ],
   "source": [
    "raju = Tappu_k_papa() # object of class Tappu_k_papa\n",
    "raju.net_worth\n",
    "raju.tappu_k_papa_ka_enjoy()"
   ]
  },
  {
   "cell_type": "code",
   "execution_count": 13,
   "id": "69789c63",
   "metadata": {},
   "outputs": [
    {
     "name": "stdout",
     "output_type": "stream",
     "text": [
      "I love my Khattara cycle, khatar khatar...\n"
     ]
    }
   ],
   "source": [
    "ramu = Tappu() # object of class Tappu\n",
    "ramu.pocket_money\n",
    "ramu.tappu_ka_enjoy()"
   ]
  },
  {
   "cell_type": "code",
   "execution_count": 14,
   "id": "1fb4e66c",
   "metadata": {},
   "outputs": [],
   "source": [
    "# This example is using 'Inheritance'\n",
    "class Tappu_k_papa: # parent class\n",
    "    networth = 10000000\n",
    "    swag = 'Audi R8'\n",
    "    \n",
    "    def tappu_k_papa_ka_enjoy(self):\n",
    "        print(f'I ride my {self.swag} vroom vroom...')\n",
    "        \n",
    "class Tappu(Tappu_k_papa): # child class, refering to parent class using brackets.\n",
    "    pocket_money = 50\n",
    "    toy = 'Khattara cycle'\n",
    "    \n",
    "    def tappu_ka_enjoy(self):\n",
    "        print(f'I ride my {self.toy}, khatar khatar...')"
   ]
  },
  {
   "cell_type": "code",
   "execution_count": 15,
   "id": "99d8d51a",
   "metadata": {},
   "outputs": [
    {
     "name": "stdout",
     "output_type": "stream",
     "text": [
      "I ride my Audi R8 vroom vroom...\n"
     ]
    }
   ],
   "source": [
    "# This object enjoys the benefits of class Tappu_k_papa only !\n",
    "sanju = Tappu_k_papa() # object of class Tappu_k_papa\n",
    "sanju.tappu_k_papa_ka_enjoy()"
   ]
  },
  {
   "cell_type": "code",
   "execution_count": 16,
   "id": "34e5a874",
   "metadata": {},
   "outputs": [
    {
     "data": {
      "text/plain": [
       "10000000"
      ]
     },
     "execution_count": 16,
     "metadata": {},
     "output_type": "execute_result"
    }
   ],
   "source": [
    "# This object can enjoy the benefits of both Tappu & Tappu_k_papa class\n",
    "# hence class Tappu is refering class Tappu_k_papa\n",
    "bob = Tappu() # object of class Tappu\n",
    "bob.networth"
   ]
  },
  {
   "cell_type": "code",
   "execution_count": 17,
   "id": "6eb4f9e6",
   "metadata": {},
   "outputs": [],
   "source": [
    "# Experiment (both the classes refering eachother) \n",
    "# This example is using 'Inheritance'\n",
    "class Tappu_k_papa(Tappu): # parent class\n",
    "    networth = 10000000\n",
    "    swag = 'Audi R8'\n",
    "    \n",
    "    def tappu_k_papa_ka_enjoy(self):\n",
    "        print(f'I ride my {self.swag} vroom vroom...')\n",
    "        \n",
    "class Tappu(Tappu_k_papa): # child class, refering to parent class using brackets.\n",
    "    pocket_money = 50\n",
    "    toy = 'Khattara cycle'\n",
    "    \n",
    "    def tappu_ka_enjoy(self):\n",
    "        print(f'I ride my {self.toy}, khatar khatar...')"
   ]
  },
  {
   "cell_type": "code",
   "execution_count": 18,
   "id": "a73cc336",
   "metadata": {},
   "outputs": [
    {
     "name": "stdout",
     "output_type": "stream",
     "text": [
      "I ride my Khattara cycle, khatar khatar...\n"
     ]
    }
   ],
   "source": [
    "rob = Tappu_k_papa()\n",
    "rob.toy\n",
    "rob.networth\n",
    "rob.tappu_ka_enjoy()"
   ]
  },
  {
   "cell_type": "code",
   "execution_count": 19,
   "id": "74e296d9",
   "metadata": {},
   "outputs": [],
   "source": [
    "# Extended version\n",
    "# example of multilevel Inheritence in OOp\n",
    "class Sonu_k_dada: # parent class\n",
    "    pension = 50000000\n",
    "    ishtyle = 'Hookah'\n",
    "    \n",
    "    def sonu_k_dada_ka_enjoyment(self):\n",
    "        print(f'I do not care much, I just smoke...')\n",
    "        \n",
    "class Sonu_k_papa(Sonu_k_dada): # child class\n",
    "    net_worth = 10000000\n",
    "    swag = 'Private jet'\n",
    "    \n",
    "    def sonu_k_papa_ka_enjoyment(self):\n",
    "        print(f'I fly in my {self.swag}')\n",
    "        \n",
    "class Sonu(Sonu_k_papa): # grand child class\n",
    "    pocket_money = 100\n",
    "    toy = 'Barbie doll'\n",
    "    \n",
    "    def sonu_ka_enjoyment(self):\n",
    "        print(f'I love my {self.toy}')"
   ]
  },
  {
   "cell_type": "code",
   "execution_count": 20,
   "id": "f437bff8",
   "metadata": {},
   "outputs": [
    {
     "name": "stdout",
     "output_type": "stream",
     "text": [
      "I do not care much, I just smoke...\n"
     ]
    }
   ],
   "source": [
    "riya = Sonu()\n",
    "riya.sonu_k_dada_ka_enjoyment()"
   ]
  },
  {
   "cell_type": "markdown",
   "id": "820b89bb",
   "metadata": {},
   "source": [
    "### #Polymorphism\n",
    "- The tenchique of creating functions with same name in both parent and child class is called 'Polymorphism'"
   ]
  },
  {
   "cell_type": "code",
   "execution_count": 21,
   "id": "1d7c389a",
   "metadata": {},
   "outputs": [],
   "source": [
    "class Parent:\n",
    "    def values_of_life(self):\n",
    "        print('Be positive in life.')\n",
    "\n",
    "class Child:\n",
    "    def values_of_life(self):\n",
    "        print('Money is everything in life.')"
   ]
  },
  {
   "cell_type": "code",
   "execution_count": 22,
   "id": "afd87099",
   "metadata": {},
   "outputs": [
    {
     "name": "stdout",
     "output_type": "stream",
     "text": [
      "Money is everything in life.\n"
     ]
    }
   ],
   "source": [
    "sanju = Child()\n",
    "sanju.values_of_life()"
   ]
  },
  {
   "cell_type": "markdown",
   "id": "f7112e92",
   "metadata": {},
   "source": [
    "### #Method overriding:\n",
    "- When your object calls that function which has same function name in both the classes, then the recent function will be wriiten this technique is known as 'Method Overriding'."
   ]
  },
  {
   "cell_type": "markdown",
   "id": "455dc836",
   "metadata": {},
   "source": [
    "### #Multiple class inheritence.\n",
    "- When a class inherites from more than one class, then it is called as 'Multiple Class Inheritence'.\n",
    "\n",
    "- Python can Inherit from multiple classes, by deciding the order of priority of class Inheritence \n",
    "\n",
    "- NOTE: Python uses 'METHOD ORDER RESOLUTION' technique to decide the priority of the classes in multiple class inheritence"
   ]
  },
  {
   "cell_type": "code",
   "execution_count": 61,
   "id": "af7a54ed",
   "metadata": {},
   "outputs": [],
   "source": [
    "class Bob_k_dada: # Independent class\n",
    "    pension = 50000000\n",
    "    swag = 'Listen radio and smoke hookah !'\n",
    "    \n",
    "    def bob_k_dada_ka_enjoyment(self):\n",
    "        print(f'I just {self.swag} that is all !')\n",
    "    \n",
    "    def usool(self):\n",
    "        print('Save money !')\n",
    "        \n",
    "class Bob_k_papa(Bob_k_dada):\n",
    "    networth = 10000000\n",
    "    swag = 'Lemborghini'\n",
    "    \n",
    "    def bob_k_papa_ka_enjoyment(self):\n",
    "        print(f'I ride my {self.swag}, vroom vroom...')\n",
    "    \n",
    "    def usool(self):\n",
    "        print('Mehnat karo beta')\n",
    "        \n",
    "class Bob_ki_mummy: # Independent class \n",
    "    ghar_kharch = 10000\n",
    "    jewellery = 'Gold chain'\n",
    "    \n",
    "    def bob_ki_mummy_ka_enjoyment(self):\n",
    "        print(f'I love my {self.jewellery}, it shines')\n",
    "    \n",
    "    def usool(self):\n",
    "        print('Bob ki pitai !')\n",
    "        \n",
    "class Bob(Bob_k_papa, Bob_ki_mummy):\n",
    "    # Bob will give first priority to the first member of class Inheritence(Bob_k_papa).\n",
    "    # Because it comes first in the order of Inheritence.\n",
    "    pocket_money = 50\n",
    "    toy = 'Bicycle'\n",
    "    \n",
    "    def bob_ka_enjoyment(self):\n",
    "        print(f'I ride my {self.toy} ziiip..')\n",
    "    \n",
    "    def b_usool(self):\n",
    "        print('Chill bro !')\n",
    "    \n",
    "    def cal_areas(self, a, b=0):\n",
    "        if b == 0:\n",
    "            print(f'Area of circle is: {3.14 *a*a}')\n",
    "        else:\n",
    "            print(f'Area of triangle is: {a*b}')"
   ]
  },
  {
   "cell_type": "code",
   "execution_count": 69,
   "id": "1991e937",
   "metadata": {},
   "outputs": [
    {
     "name": "stdout",
     "output_type": "stream",
     "text": [
      "Area of triangle is: 18\n"
     ]
    }
   ],
   "source": [
    "bunty = Bob()\n",
    "bunty.cal_areas(3, 6)"
   ]
  },
  {
   "cell_type": "markdown",
   "id": "f9d1c17b",
   "metadata": {},
   "source": [
    "### #Method Overloading:\n",
    "- When a method performs different operations on the based of Input received"
   ]
  },
  {
   "cell_type": "code",
   "execution_count": 76,
   "id": "0c20b894",
   "metadata": {},
   "outputs": [],
   "source": [
    "# code example\n",
    "def cal_area(self, a, b=0):\n",
    "    '''\n",
    "    This function/method calculates the area of circle and \n",
    "    area of triangle on the basis of input recieved.\n",
    "    '''\n",
    "    if b == 0:\n",
    "        print('Area of circle is:', 3.14*a*a)\n",
    "    else:\n",
    "        print('Area of triangle is: ', a*b)"
   ]
  }
 ],
 "metadata": {
  "kernelspec": {
   "display_name": "Python 3 (ipykernel)",
   "language": "python",
   "name": "python3"
  },
  "language_info": {
   "codemirror_mode": {
    "name": "ipython",
    "version": 3
   },
   "file_extension": ".py",
   "mimetype": "text/x-python",
   "name": "python",
   "nbconvert_exporter": "python",
   "pygments_lexer": "ipython3",
   "version": "3.10.12"
  }
 },
 "nbformat": 4,
 "nbformat_minor": 5
}
