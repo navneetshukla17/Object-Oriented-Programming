{
 "cells": [
  {
   "cell_type": "code",
   "execution_count": 1,
   "id": "0921f568",
   "metadata": {},
   "outputs": [
    {
     "name": "stdout",
     "output_type": "stream",
     "text": [
      "<class 'list'>\n"
     ]
    }
   ],
   "source": [
    "L1 = [1, 2, 3, 4, 5] # here L1 is an \"OBJECT\"\n",
    "print(type(L1)) # and list is an \"CLASS\""
   ]
  },
  {
   "cell_type": "code",
   "execution_count": 2,
   "id": "1f934640",
   "metadata": {},
   "outputs": [
    {
     "name": "stdout",
     "output_type": "stream",
     "text": [
      "<class 'bool'>\n"
     ]
    }
   ],
   "source": [
    "a = True # here also a is an \"OBJECT\"\n",
    "print(type(a)) # and its type (boolean) is an \"CLASS\""
   ]
  },
  {
   "cell_type": "markdown",
   "id": "f0051f9e",
   "metadata": {},
   "source": [
    "### Let's make a class to handle cars\n"
   ]
  },
  {
   "cell_type": "code",
   "execution_count": 3,
   "id": "d7cb336c",
   "metadata": {},
   "outputs": [],
   "source": [
    "class Car:\n",
    "\n",
    "    def __init__(self):\n",
    "        self.color = None\n",
    "        self.topSpeed = None\n",
    "\n",
    "    def getInfo(self, x, y):\n",
    "        \"\"\"\n",
    "        This function give info about your car\n",
    "        Input: x=color, y=topspeed\n",
    "        Output: A message displaying color of your car and it's topspeed.\n",
    "        Created By: Tushar\n",
    "        Last Edited: April-10-2024\n",
    "        \"\"\"\n",
    "        self.color = x\n",
    "        self.topSpeed = y    \n",
    "        print(f'You have a \"{self.color}\" car with a top speed of: {self.topSpeed}Kmph')\n",
    "\n",
    "    def calAvgSpeed(self, km, t):\n",
    "        \"\"\"\n",
    "        This function give info about your car\n",
    "        Input: km=km of your car, y=topspeed of your car\n",
    "        Output: A message displaying speed of your car.\n",
    "        Created By: Tushar\n",
    "        Last Edited: April-10-2024\n",
    "        \"\"\"\n",
    "        speed = km/t\n",
    "        print(f'Your speed is: {speed} Kmph')"
   ]
  },
  {
   "cell_type": "code",
   "execution_count": 4,
   "id": "71034552",
   "metadata": {},
   "outputs": [],
   "source": [
    "# instance of 1st car\n",
    "audi = Car()\n",
    "audi.color = 'Blue'"
   ]
  },
  {
   "cell_type": "code",
   "execution_count": 5,
   "id": "c90608d6",
   "metadata": {},
   "outputs": [],
   "source": [
    "# instance of 2nd car\n",
    "nano = Car()\n",
    "nano.color = 'Red'"
   ]
  },
  {
   "cell_type": "code",
   "execution_count": 6,
   "id": "5489b8bf",
   "metadata": {},
   "outputs": [
    {
     "name": "stdout",
     "output_type": "stream",
     "text": [
      "You have a \"Blue\" car with a top speed of: 120Kmph\n"
     ]
    }
   ],
   "source": [
    "audi.getInfo(audi.color, 120)"
   ]
  },
  {
   "cell_type": "markdown",
   "id": "bbbc99a0",
   "metadata": {},
   "source": [
    "### Creating a program for an ATM machine "
   ]
  },
  {
   "cell_type": "code",
   "execution_count": 7,
   "id": "c0b392fd",
   "metadata": {},
   "outputs": [],
   "source": [
    "class ATM:\n",
    "    '''\n",
    "    A simple ATM machine program\n",
    "    '''\n",
    "    def __init__(self):\n",
    "        self.pin = None\n",
    "        self.balance = 0\n",
    "\n",
    "    # def __init__(self): # by using constructor we can trigger activatecard func()\n",
    "    # on the time of object creation\n",
    "    def activateCard(self):\n",
    "        '''\n",
    "        This function let the users activate their ATM cards.\n",
    "        Input: 4 digit PIN\n",
    "        Output: creates an user account by storing his/her credentials for future use\n",
    "        Create by: Tushar\n",
    "        Last edited: 11-April-2024\n",
    "        '''\n",
    "        print('Welcome to shukla co op. bank, please generate your pin')\n",
    "        self.pin = input('Create a 4 digit pin')\n",
    "        print('Congrats your pin has been created successfully!')\n",
    "\n",
    "\n",
    "    def checkBalance(self):\n",
    "        \"\"\"\n",
    "        This function let the users check their account balance.\n",
    "        Input: 4 digit PIN\n",
    "        Output: displays account balance\n",
    "        Created by: Tushar\n",
    "        Last edited: 11-April-2024\n",
    "        \"\"\"\n",
    "        temp = input('Enter your 4 digit PIN')\n",
    "        if temp == self.pin:\n",
    "            print(f'Your current acccount balance is: ₹{self.balance}')\n",
    "        else:\n",
    "            print('Incorrect PIN')\n",
    "\n",
    "\n",
    "    def deposite(self):\n",
    "        \"\"\"\n",
    "        This function let the users deposite money in their account.\n",
    "        Input: 4 digit PIN\n",
    "        Output: deposites money into users account\n",
    "        Created by: Tushar\n",
    "        Last edited: 11-April-2024\n",
    "        \"\"\"\n",
    "        temp = input('Enter your 4 digit PIN')\n",
    "        if temp == self.pin:\n",
    "            amount = int(input('Enter the amount you want to deposite: '))\n",
    "            self.balance = self.balance + amount\n",
    "            print(f'You have deposite: ₹{self.balance}')\n",
    "        else:\n",
    "            print('Incorrect PIN')\n",
    "\n",
    "\n",
    "    def withDraw(self):\n",
    "        \"\"\"\n",
    "        This function let the users withdraw money from their available balance.\n",
    "        Input: 4 digit PIN\n",
    "        Output: handovers money to the users\n",
    "        Created by: Tushar\n",
    "        Last edited: 10-April-2024\n",
    "        \"\"\"\n",
    "        temp = input('Enter your 4 digit PIN')\n",
    "        if temp == self.pin:\n",
    "            amount = int(input('Enter the amount you wish to withdraw: '))\n",
    "            if amount < self.balance:\n",
    "                self.balance = self.balance - amount\n",
    "                print(f'You have withdrawed: ₹{amount}')\n",
    "            else:\n",
    "                print('Insufficient account balance')\n",
    "        else:\n",
    "            print('Incorret PIN')"
   ]
  },
  {
   "cell_type": "code",
   "execution_count": 8,
   "id": "52e27869",
   "metadata": {},
   "outputs": [],
   "source": [
    "sam = ATM()"
   ]
  },
  {
   "cell_type": "code",
   "execution_count": 9,
   "id": "19e91712",
   "metadata": {},
   "outputs": [
    {
     "name": "stdout",
     "output_type": "stream",
     "text": [
      "Welcome to shukla co op. bank, please generate your pin\n",
      "Create a 4 digit pin1020\n",
      "Congrats your pin has been created successfully!\n"
     ]
    }
   ],
   "source": [
    "sam.activateCard()"
   ]
  },
  {
   "cell_type": "markdown",
   "id": "10f723e4",
   "metadata": {},
   "source": [
    "### creating a data type to calculate fractions"
   ]
  },
  {
   "cell_type": "code",
   "execution_count": 16,
   "id": "80f28229",
   "metadata": {},
   "outputs": [],
   "source": [
    "class Fraction:\n",
    "    '''\n",
    "    A class to create our own fraction data type.\n",
    "    '''\n",
    "    def __init__(self, x, y):\n",
    "        '''\n",
    "        This fuction automaticaly triggred when the object is created.\n",
    "        '''\n",
    "        self.num = int(x)\n",
    "        self.deno = int(y)\n",
    "    \n",
    "    def __str__(self):\n",
    "        '''\n",
    "        This function displays the contents of the object.\n",
    "        '''\n",
    "        return f'{self.num}/{self.deno}'\n",
    "    \n",
    "    def __add__(self, other):\n",
    "        '''\n",
    "        This function adds two fractions\n",
    "        '''\n",
    "        temp_num = self.num*other.deno + self.deno*other.num\n",
    "        temp_deno = self.deno*other.deno\n",
    "        \n",
    "        return Fraction(temp_num, temp_deno)\n",
    "    \n",
    "    def __sub__(self, other):\n",
    "        '''\n",
    "        This function substracts two fractions\n",
    "        '''\n",
    "        temp_num = self.num*other.deno - self.deno*other.num\n",
    "        temp_deno = self.deno*other.deno\n",
    "        \n",
    "        return Fraction(temp_num, temp_deno)\n",
    "    \n",
    "    def __mul__(self, other):\n",
    "        '''\n",
    "        This function multiplies two fractions\n",
    "        '''\n",
    "        temp_num = self.num * other.num\n",
    "        temp_deno = self.deno * other.deno\n",
    "        \n",
    "        return Fraction(temp_num, temp_deno)\n",
    "    \n",
    "    def __truediv__(self, other):\n",
    "        '''\n",
    "        This function divides two fractions\n",
    "        '''\n",
    "        temp_num = self.num * other.deno\n",
    "        temp_deno = self.deno * other.num\n",
    "        \n",
    "        return Fraction(temp_num, temp_deno)"
   ]
  },
  {
   "cell_type": "code",
   "execution_count": 31,
   "id": "28ecf731",
   "metadata": {},
   "outputs": [],
   "source": [
    "a = Fraction(3, 4)\n",
    "b = Fraction(5, 6)\n",
    "c = Fraction(3.4, 5.6)"
   ]
  },
  {
   "cell_type": "code",
   "execution_count": 34,
   "id": "b4be0069",
   "metadata": {},
   "outputs": [
    {
     "name": "stdout",
     "output_type": "stream",
     "text": [
      "Addition: 38/24\n",
      "Substraction: -2/24\n",
      "Multiplication: 15/24\n",
      "Division: 18/20\n"
     ]
    }
   ],
   "source": [
    "print(f'Addition: {a+b}')\n",
    "print(f'Substraction: {a-b}')\n",
    "print(f'Multiplication: {a*b}')\n",
    "print(f'Division: {a/b}')"
   ]
  },
  {
   "cell_type": "code",
   "execution_count": 13,
   "id": "6cf8b49b",
   "metadata": {},
   "outputs": [],
   "source": [
    "class Car:\n",
    "    '''\n",
    "    A class about cars\n",
    "    '''\n",
    "    def __init__(self, name, color, model_no):\n",
    "        '''\n",
    "        This method will get triggred by the time of object creation\n",
    "        Input: car_name, car_color_, car_model_no\n",
    "        Ouput: prints message about your car\n",
    "        Created by: Tushar\n",
    "        Last edited: 15-April-2024\n",
    "        ''' \n",
    "        self.name = name\n",
    "        self.color = color\n",
    "        self.model_no = model_no\n",
    "    \n",
    "    def __str__(self):\n",
    "        '''\n",
    "        This method prints contents inside the object\n",
    "        Input: car_name, car_color_, car_model_no\n",
    "        Ouput: prints message about your car\n",
    "        Created by: Tushar\n",
    "        Last edited: 15-April-2024\n",
    "        '''        \n",
    "        return f'You have {self.color} color car and the model number is {self.model_no}'"
   ]
  },
  {
   "cell_type": "code",
   "execution_count": 14,
   "id": "484c227b",
   "metadata": {},
   "outputs": [],
   "source": [
    "car_1 = Car('BMW', 'Black', 'bmx230948')"
   ]
  },
  {
   "cell_type": "code",
   "execution_count": 15,
   "id": "c99ea352",
   "metadata": {},
   "outputs": [
    {
     "name": "stdout",
     "output_type": "stream",
     "text": [
      "You have Black color car and the model number is bmx230948\n"
     ]
    }
   ],
   "source": [
    "print(car_1)"
   ]
  },
  {
   "cell_type": "code",
   "execution_count": null,
   "id": "0656af0b",
   "metadata": {},
   "outputs": [],
   "source": []
  },
  {
   "cell_type": "code",
   "execution_count": null,
   "id": "9d5d0bd5",
   "metadata": {},
   "outputs": [],
   "source": []
  }
 ],
 "metadata": {
  "kernelspec": {
   "display_name": "Python 3 (ipykernel)",
   "language": "python",
   "name": "python3"
  },
  "language_info": {
   "codemirror_mode": {
    "name": "ipython",
    "version": 3
   },
   "file_extension": ".py",
   "mimetype": "text/x-python",
   "name": "python",
   "nbconvert_exporter": "python",
   "pygments_lexer": "ipython3",
   "version": "3.10.12"
  }
 },
 "nbformat": 4,
 "nbformat_minor": 5
}
